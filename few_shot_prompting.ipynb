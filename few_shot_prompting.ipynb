{
 "cells": [
  {
   "cell_type": "markdown",
   "id": "4142bec3",
   "metadata": {},
   "source": [
    "\n",
    "This notebook demonstrates how to use **few-shot prompting** with a base model (e.g., Mistral-7B-v0.1 or OPT).\n",
    "Few-shot prompting involves providing examples in the prompt to help the model infer the task without explicit instructions.\n",
    "\n",
    "Key Takeaways:\n",
    "- Few-shot prompting works with **base models**.\n",
    "- It's useful when you have no instruction-following capability.\n",
    "- The model completes the pattern based on examples.\n"
   ]
  },
  {
   "cell_type": "markdown",
   "id": "ca54a379",
   "metadata": {},
   "source": []
  },
  {
   "cell_type": "code",
   "execution_count": null,
   "id": "cb431451",
   "metadata": {},
   "outputs": [
    {
     "name": "stderr",
     "output_type": "stream",
     "text": [
      "/miniforge/envs/pt/lib/python3.12/site-packages/tqdm/auto.py:21: TqdmWarning: IProgress not found. Please update jupyter and ipywidgets. See https://ipywidgets.readthedocs.io/en/stable/user_install.html\n",
      "  from .autonotebook import tqdm as notebook_tqdm\n"
     ]
    }
   ],
   "source": [
    "from transformers import AutoTokenizer, AutoModelForCausalLM\n",
    "import torch\n",
    "\n",
    "# Load base model\n",
    "model_name = \"facebook/opt-350m\"  # Or mistralai/Mistral-7B-v0.1 if available\n",
    "# model_name = \"facebook/opt-350m\"  # Or mistralai/Mistral-7B-v0.1 if available\n",
    "model = AutoModelForCausalLM.from_pretrained(model_name).to(\"cuda\" if torch.cuda.is_available() else \"cpu\")\n",
    "tokenizer = AutoTokenizer.from_pretrained(model_name)\n",
    "\n",
    "# Few-shot prompt with examples\n",
    "prompt = \"\"\"Review: The movie was too slow and lacked energy.\n",
    "Sentiment: Negative\n",
    "\n",
    "Review: A beautiful film with emotional depth.\n",
    "Sentiment: Positive\n",
    "\n",
    "Review: I loved the new Batman movie. It was thrilling and emotional.\n",
    "Sentiment:\"\"\"\n",
    "\n",
    "# Generate response\n",
    "def generate_fewshot(prompt, max_tokens=30):\n",
    "    inputs = tokenizer(prompt, return_tensors=\"pt\").to(model.device)\n",
    "    outputs = model.generate(\n",
    "        **inputs,\n",
    "        max_new_tokens=max_tokens,\n",
    "        temperature=0.7,\n",
    "        do_sample=True,\n",
    "        pad_token_id=tokenizer.eos_token_id,\n",
    "        eos_token_id=tokenizer.eos_token_id,\n",
    "    )\n",
    "    decoded = tokenizer.decode(outputs[0], skip_special_tokens=True)\n",
    "    response = decoded[len(prompt):].strip().split(\"\\n\")[0].strip()\n",
    "    return response\n",
    "\n",
    "print(\"Few-shot response:\", generate_fewshot(prompt))"
   ]
  },
  {
   "cell_type": "code",
   "execution_count": null,
   "id": "634c6f4c",
   "metadata": {},
   "outputs": [],
   "source": []
  },
  {
   "cell_type": "code",
   "execution_count": null,
   "id": "b2ae6c06",
   "metadata": {},
   "outputs": [],
   "source": []
  },
  {
   "cell_type": "code",
   "execution_count": null,
   "id": "7181e9e9",
   "metadata": {},
   "outputs": [],
   "source": []
  }
 ],
 "metadata": {
  "kernelspec": {
   "display_name": "pt",
   "language": "python",
   "name": "python3"
  },
  "language_info": {
   "codemirror_mode": {
    "name": "ipython",
    "version": 3
   },
   "file_extension": ".py",
   "mimetype": "text/x-python",
   "name": "python",
   "nbconvert_exporter": "python",
   "pygments_lexer": "ipython3",
   "version": "3.12.9"
  }
 },
 "nbformat": 4,
 "nbformat_minor": 5
}
