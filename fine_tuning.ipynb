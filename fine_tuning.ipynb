{
 "cells": [
  {
   "cell_type": "code",
   "execution_count": 1,
   "id": "9c94bc20",
   "metadata": {},
   "outputs": [
    {
     "name": "stderr",
     "output_type": "stream",
     "text": [
      "/miniforge/envs/pt/lib/python3.12/site-packages/tqdm/auto.py:21: TqdmWarning: IProgress not found. Please update jupyter and ipywidgets. See https://ipywidgets.readthedocs.io/en/stable/user_install.html\n",
      "  from .autonotebook import tqdm as notebook_tqdm\n"
     ]
    }
   ],
   "source": [
    "import os\n",
    "import torch\n",
    "import numpy as np\n",
    "import pandas as pd\n",
    "from datasets import load_dataset\n",
    "from transformers import (\n",
    "    AutoModelForSequenceClassification,\n",
    "    AutoTokenizer,\n",
    "    get_linear_schedule_with_warmup,\n",
    "    set_seed\n",
    ")\n",
    "from peft import (\n",
    "    get_peft_model,\n",
    "    LoraConfig,\n",
    "    TaskType,\n",
    "    prepare_model_for_kbit_training\n",
    ")\n",
    "from torch.utils.data import DataLoader\n",
    "from tqdm import tqdm\n",
    "from sklearn.metrics import (\n",
    "    accuracy_score,\n",
    "    roc_auc_score,\n",
    "    average_precision_score\n",
    ")\n",
    "import matplotlib.pyplot as plt\n",
    "\n",
    "# Set seed for reproducibility\n",
    "set_seed(42)\n",
    "\n"
   ]
  },
  {
   "cell_type": "code",
   "execution_count": 2,
   "id": "16a15984",
   "metadata": {},
   "outputs": [
    {
     "name": "stdout",
     "output_type": "stream",
     "text": [
      "Using device: cuda\n"
     ]
    }
   ],
   "source": [
    "# Set device\n",
    "device = torch.device(\"cuda\" if torch.cuda.is_available() else \"cpu\")\n",
    "print(f\"Using device: {device}\")\n",
    "\n",
    "# Model configuration\n",
    "# Choose your desired model here\n",
    "MODEL_NAME = \"facebook/opt-350m\"  # A smaller model for faster testing\n",
    "# Other options: \n",
    "# - \"meta-llama/Llama-2-7b-hf\" (requires access)\n",
    "# - \"google/flan-t5-small\"\n",
    "# - \"mistralai/Mistral-7B-v0.1\" (requires access)\n",
    "\n",
    "# Training parameters\n",
    "MAX_LENGTH = 128\n",
    "BATCH_SIZE = 8\n",
    "EPOCHS = 3\n",
    "LEARNING_RATE = 2e-5\n",
    "\n",
    "# Dataset parameters\n",
    "TRAIN_SAMPLES = 1000  # Number of training examples to use\n",
    "TEST_SAMPLES = 200    # Number of test examples to use\n",
    "\n"
   ]
  },
  {
   "cell_type": "code",
   "execution_count": 7,
   "id": "41a33b84",
   "metadata": {},
   "outputs": [],
   "source": [
    "from sklearn.model_selection import train_test_split\n",
    "import pandas as pd\n",
    "from datasets import Dataset, load_dataset\n",
    "\n",
    "def load_binary_classification_dataset():\n",
    "    \"\"\"Load a binary classification dataset from Hugging Face\"\"\"\n",
    "    # You can replace this with any binary classification dataset\n",
    "    dataset = load_dataset(\"imdb\")\n",
    "    df = pd.DataFrame(dataset[\"train\"])\n",
    "\n",
    "    # Stratified split to ensure both classes exist\n",
    "    train_df, test_df = train_test_split(df, test_size=0.2, stratify=df[\"label\"], random_state=42)\n",
    "\n",
    "    # Convert back to HF Datasets and select samples\n",
    "    train_dataset = Dataset.from_pandas(train_df.reset_index(drop=True)).select(range(1000))\n",
    "    test_dataset = Dataset.from_pandas(test_df.reset_index(drop=True)).select(range(200))\n",
    "    \n",
    "    print(f\"Loaded {len(train_dataset)} training samples\")\n",
    "    print(f\"Loaded {len(test_dataset)} test samples\")\n",
    "    print(f\"Labels: {dataset['train'].features['label'].names}\")\n",
    "    print(f\"\\nSample data:\")\n",
    "    print(train_dataset[0])\n",
    "    \n",
    "    return train_dataset, test_dataset\n",
    "\n",
    "def preprocess_data(dataset, tokenizer):\n",
    "    \"\"\"Tokenize and prepare the dataset\"\"\"\n",
    "    def tokenize_function(examples):\n",
    "        return tokenizer(\n",
    "            examples[\"text\"],\n",
    "            padding=\"max_length\",\n",
    "            truncation=True,\n",
    "            max_length=MAX_LENGTH,\n",
    "            return_tensors=\"pt\"\n",
    "        )\n",
    "    \n",
    "    tokenized_dataset = dataset.map(tokenize_function, batched=True)\n",
    "    tokenized_dataset = tokenized_dataset.rename_column(\"label\", \"labels\")\n",
    "    tokenized_dataset.set_format(type=\"torch\", columns=[\"input_ids\", \"attention_mask\", \"labels\"])\n",
    "    \n",
    "    return tokenized_dataset\n",
    "\n",
    "def create_dataloader(dataset, batch_size):\n",
    "    \"\"\"Create a DataLoader for the dataset\"\"\"\n",
    "    return DataLoader(\n",
    "        dataset,\n",
    "        batch_size=batch_size,\n",
    "        shuffle=True\n",
    "    )\n",
    "\n"
   ]
  },
  {
   "cell_type": "code",
   "execution_count": 8,
   "id": "00b1262c",
   "metadata": {},
   "outputs": [],
   "source": [
    "def train_model(model, train_dataloader, optimizer, scheduler, epochs):\n",
    "    \"\"\"Training function for fine-tuning\"\"\"\n",
    "    model.train()\n",
    "    \n",
    "    for epoch in range(epochs):\n",
    "        print(f\"\\nEpoch {epoch+1}/{epochs}\")\n",
    "        total_loss = 0\n",
    "        \n",
    "        progress_bar = tqdm(train_dataloader)\n",
    "        for batch in progress_bar:\n",
    "            batch = {k: v.to(device) for k, v in batch.items()}\n",
    "            \n",
    "            optimizer.zero_grad()\n",
    "            \n",
    "            outputs = model(**batch)\n",
    "            loss = outputs.loss\n",
    "            \n",
    "            loss.backward()\n",
    "            optimizer.step()\n",
    "            scheduler.step()\n",
    "            \n",
    "            total_loss += loss.item()\n",
    "            progress_bar.set_description(f\"Loss: {loss.item():.4f}\")\n",
    "            \n",
    "        avg_loss = total_loss / len(train_dataloader)\n",
    "        print(f\"Average loss: {avg_loss:.4f}\")\n",
    "\n",
    "def evaluate_model(model, test_dataloader):\n",
    "    \"\"\"Evaluate model and compute metrics\"\"\"\n",
    "    model.eval()\n",
    "    \n",
    "    all_preds = []\n",
    "    all_probs = []\n",
    "    all_labels = []\n",
    "    \n",
    "    with torch.no_grad():\n",
    "        for batch in tqdm(test_dataloader, desc=\"Evaluating\"):\n",
    "            batch = {k: v.to(device) for k, v in batch.items()}\n",
    "            \n",
    "            outputs = model(**batch)\n",
    "            logits = outputs.logits\n",
    "            \n",
    "            # Get probabilities and predictions\n",
    "            probs = torch.softmax(logits, dim=1)[:, 1].cpu().numpy()\n",
    "            preds = torch.argmax(logits, dim=1).cpu().numpy()\n",
    "            labels = batch[\"labels\"].cpu().numpy()\n",
    "            \n",
    "            all_probs.extend(probs)\n",
    "            all_preds.extend(preds)\n",
    "            all_labels.extend(labels)\n",
    "    \n",
    "    # Calculate metrics\n",
    "    accuracy = accuracy_score(all_labels, all_preds)\n",
    "    auc = roc_auc_score(all_labels, all_probs)\n",
    "    pr_auc = average_precision_score(all_labels, all_probs)\n",
    "    \n",
    "    metrics = {\n",
    "        \"accuracy\": accuracy,\n",
    "        \"AUC\": auc,\n",
    "        \"PR-AUC\": pr_auc\n",
    "    }\n",
    "    \n",
    "    print(f\"Evaluation metrics:\")\n",
    "    print(f\"  Accuracy: {accuracy:.4f}\")\n",
    "    print(f\"  AUC-ROC:  {auc:.4f}\")\n",
    "    print(f\"  PR-AUC:   {pr_auc:.4f}\")\n",
    "    \n",
    "    return metrics\n",
    "\n"
   ]
  },
  {
   "cell_type": "code",
   "execution_count": 9,
   "id": "9d61ce60",
   "metadata": {},
   "outputs": [],
   "source": [
    "def plot_results(results):\n",
    "    \"\"\"Plot comparison of different fine-tuning methods\"\"\"\n",
    "    metrics = list(next(iter(results.values())).keys())\n",
    "    models = list(results.keys())\n",
    "\n",
    "    fig, ax = plt.subplots(1, len(metrics), figsize=(15, 5))\n",
    "\n",
    "    for i, metric in enumerate(metrics):\n",
    "        values = [results[model][metric] for model in models]\n",
    "        ax[i].bar(models, values)\n",
    "        ax[i].set_title(metric)\n",
    "        ax[i].set_ylim(0, 1)\n",
    "        plt.setp(ax[i].get_xticklabels(), rotation=45, ha='right')\n",
    "\n",
    "    plt.tight_layout()\n",
    "    plt.savefig(\"fine_tuning_comparison.png\")\n",
    "    print(\"Results plot saved as 'fine_tuning_comparison.png'\")\n",
    "\n",
    "def main():\n",
    "    results = {}\n",
    "    \n",
    "    # 1. Load and prepare data\n",
    "    print(\"\\n=== Loading dataset ===\")\n",
    "    train_dataset, test_dataset = load_binary_classification_dataset()\n",
    "    \n",
    "    # 2. Load tokenizer\n",
    "    print(\"\\n=== Loading tokenizer ===\")\n",
    "    tokenizer = AutoTokenizer.from_pretrained(MODEL_NAME)\n",
    "    \n",
    "    # Check if tokenizer has pad_token, if not set it to eos_token\n",
    "    if tokenizer.pad_token is None:\n",
    "        tokenizer.pad_token = tokenizer.eos_token\n",
    "        print(f\"Set pad_token to eos_token: {tokenizer.pad_token}\")\n",
    "    \n",
    "    # 3. Preprocess data\n",
    "    print(\"\\n=== Preprocessing data ===\")\n",
    "    train_tokenized = preprocess_data(train_dataset, tokenizer)\n",
    "    test_tokenized = preprocess_data(test_dataset, tokenizer)\n",
    "    \n",
    "    train_dataloader = create_dataloader(train_tokenized, BATCH_SIZE)\n",
    "    test_dataloader = create_dataloader(test_tokenized, BATCH_SIZE)\n",
    "    \n",
    "    # Calculate total steps for schedulers\n",
    "    total_steps = len(train_dataloader) * EPOCHS\n",
    "    \n",
    "    # 4. Base model evaluation\n",
    "    print(\"\\n=== Loading base model ===\")\n",
    "    base_model = AutoModelForSequenceClassification.from_pretrained(\n",
    "        MODEL_NAME,\n",
    "        num_labels=2,\n",
    "    )\n",
    "    base_model.config.pad_token_id = tokenizer.pad_token_id\n",
    "    base_model = base_model.to(device)\n",
    "    \n",
    "    print(\"\\n=== Evaluating base model performance (no fine-tuning) ===\")\n",
    "    results[\"Base Model\"] = evaluate_model(base_model, test_dataloader)\n",
    "    \n",
    "    # 5. Last layer fine-tuning\n",
    "    print(\"\\n=== Loading model for last layer fine-tuning ===\")\n",
    "    last_layer_model = AutoModelForSequenceClassification.from_pretrained(\n",
    "        MODEL_NAME,\n",
    "        num_labels=2,\n",
    "    )\n",
    "    last_layer_model.config.pad_token_id = tokenizer.pad_token_id\n",
    "    \n",
    "    # Freeze all layers except classification head\n",
    "    # Freeze everything\n",
    "    for param in last_layer_model.parameters():\n",
    "        param.requires_grad = False\n",
    "\n",
    "    # Unfreeze classification head\n",
    "    for name, param in last_layer_model.named_parameters():\n",
    "        if any(head in name.lower() for head in [\"score\", \"lm_head\", \"classifier\"]):\n",
    "            param.requires_grad = True\n",
    "\n",
    "    \n",
    "    # Move model to device\n",
    "    last_layer_model = last_layer_model.to(device)\n",
    "    \n",
    "    # Check which parameters are being trained\n",
    "    trainable_params = sum(p.numel() for p in last_layer_model.parameters() if p.requires_grad)\n",
    "    total_params = sum(p.numel() for p in last_layer_model.parameters())\n",
    "    print(f\"Trainable parameters: {trainable_params} ({trainable_params/total_params:.2%} of total)\")\n",
    "    \n",
    "    # Training setup\n",
    "    optimizer = torch.optim.AdamW(\n",
    "        [p for p in last_layer_model.parameters() if p.requires_grad], \n",
    "        lr=LEARNING_RATE\n",
    "    )\n",
    "    \n",
    "    scheduler = get_linear_schedule_with_warmup(\n",
    "        optimizer,\n",
    "        num_warmup_steps=int(0.1 * total_steps),\n",
    "        num_training_steps=total_steps\n",
    "    )\n",
    "    \n",
    "    # Train and evaluate\n",
    "    print(\"\\n=== Training last layer ===\")\n",
    "    train_model(last_layer_model, train_dataloader, optimizer, scheduler, EPOCHS)\n",
    "    \n",
    "    print(\"\\n=== Evaluating last layer fine-tuned model ===\")\n",
    "    results[\"Last Layer Fine-tuning\"] = evaluate_model(last_layer_model, test_dataloader)\n",
    "    \n",
    "    # 6. LoRA fine-tuning\n",
    "    print(\"\\n=== Loading model for LoRA fine-tuning ===\")\n",
    "    lora_model = AutoModelForSequenceClassification.from_pretrained(\n",
    "        MODEL_NAME,\n",
    "        num_labels=2,\n",
    "    )\n",
    "    lora_model.config.pad_token_id = tokenizer.pad_token_id\n",
    "    \n",
    "    # Determine target modules based on model architecture\n",
    "    if \"llama\" in MODEL_NAME.lower() or \"mistral\" in MODEL_NAME.lower():\n",
    "        target_modules = [\"q_proj\", \"v_proj\"]\n",
    "    elif \"opt\" in MODEL_NAME.lower() or \"gpt\" in MODEL_NAME.lower():\n",
    "        target_modules = [\"q_proj\", \"v_proj\"]\n",
    "    elif \"t5\" in MODEL_NAME.lower():\n",
    "        target_modules = [\"q\", \"v\"]\n",
    "    else:\n",
    "        # Default for most transformer models\n",
    "        target_modules = [\"query\", \"value\"]\n",
    "    \n",
    "    # Configure LoRA\n",
    "    lora_config = LoraConfig(\n",
    "        task_type=TaskType.SEQ_CLS,\n",
    "        r=8,  # Rank\n",
    "        lora_alpha=32,\n",
    "        lora_dropout=0.1,\n",
    "        target_modules=target_modules\n",
    "    )\n",
    "    \n",
    "    # Apply LoRA\n",
    "    lora_model = get_peft_model(lora_model, lora_config)\n",
    "    lora_model = lora_model.to(device)\n",
    "    \n",
    "    # Print trainable parameters\n",
    "    lora_model.print_trainable_parameters()\n",
    "    \n",
    "    # Training setup\n",
    "    optimizer = torch.optim.AdamW(\n",
    "        [p for p in lora_model.parameters() if p.requires_grad], \n",
    "        lr=LEARNING_RATE\n",
    "    )\n",
    "    \n",
    "    scheduler = get_linear_schedule_with_warmup(\n",
    "        optimizer,\n",
    "        num_warmup_steps=int(0.1 * total_steps),\n",
    "        num_training_steps=total_steps\n",
    "    )\n",
    "    \n",
    "    # Train and evaluate\n",
    "    print(\"\\n=== Training with LoRA ===\")\n",
    "    train_model(lora_model, train_dataloader, optimizer, scheduler, EPOCHS)\n",
    "    \n",
    "    print(\"\\n=== Evaluating LoRA fine-tuned model ===\")\n",
    "    results[\"LoRA Fine-tuning\"] = evaluate_model(lora_model, test_dataloader)\n",
    "    \n",
    "    # 7. QLoRA fine-tuning\n",
    "    print(\"\\n=== Loading model for QLoRA fine-tuning ===\")\n",
    "    try:\n",
    "        # Load model in 4-bit to enable QLoRA\n",
    "        qlora_model = AutoModelForSequenceClassification.from_pretrained(\n",
    "            MODEL_NAME,\n",
    "            num_labels=2,\n",
    "            load_in_4bit=True,\n",
    "            device_map=\"auto\",\n",
    "        )\n",
    "        qlora_model.config.pad_token_id = tokenizer.pad_token_id\n",
    "        \n",
    "        # Prepare model for k-bit training\n",
    "        qlora_model = prepare_model_for_kbit_training(qlora_model)\n",
    "        \n",
    "        # Configure LoRA for QLoRA\n",
    "        qlora_config = LoraConfig(\n",
    "            task_type=TaskType.SEQ_CLS,\n",
    "            r=8,\n",
    "            lora_alpha=32,\n",
    "            lora_dropout=0.1,\n",
    "            target_modules=target_modules,\n",
    "            bias=\"none\",\n",
    "            modules_to_save=[\"classifier\"]\n",
    "        )\n",
    "        \n",
    "        # Apply LoRA\n",
    "        qlora_model = get_peft_model(qlora_model, qlora_config)\n",
    "        \n",
    "        # Print trainable parameters\n",
    "        qlora_model.print_trainable_parameters()\n",
    "        \n",
    "        # Training setup\n",
    "        optimizer = torch.optim.AdamW(\n",
    "            [p for p in qlora_model.parameters() if p.requires_grad], \n",
    "            lr=LEARNING_RATE\n",
    "        )\n",
    "        \n",
    "        scheduler = get_linear_schedule_with_warmup(\n",
    "            optimizer,\n",
    "            num_warmup_steps=int(0.1 * total_steps),\n",
    "            num_training_steps=total_steps\n",
    "        )\n",
    "        \n",
    "        # Train and evaluate\n",
    "        print(\"\\n=== Training with QLoRA ===\")\n",
    "        train_model(qlora_model, train_dataloader, optimizer, scheduler, EPOCHS)\n",
    "        \n",
    "        print(\"\\n=== Evaluating QLoRA fine-tuned model ===\")\n",
    "        results[\"QLoRA Fine-tuning\"] = evaluate_model(qlora_model, test_dataloader)\n",
    "    except Exception as e:\n",
    "        print(f\"Error with QLoRA: {e}\")\n",
    "        print(\"This may happen if bitsandbytes is not properly installed or you're on an unsupported platform.\")\n",
    "        print(\"Skipping QLoRA evaluation.\")\n",
    "    \n",
    "    # 8. Results comparison\n",
    "    print(\"\\n=== Results Comparison ===\")\n",
    "    df_results = pd.DataFrame.from_dict(results, orient='index')\n",
    "    print(df_results)\n",
    "    \n",
    "    # Plot results\n",
    "    try:\n",
    "        plot_results(results)\n",
    "    except Exception as e:\n",
    "        print(f\"Error plotting results: {e}\")\n",
    "    \n",
    "    # Save models if needed\n",
    "    output_dir = \"fine_tuned_models\"\n",
    "    os.makedirs(output_dir, exist_ok=True)\n",
    "    \n",
    "    # Save LoRA model - this only saves the adapter weights, not the full model\n",
    "    lora_model.save_pretrained(f\"{output_dir}/lora_model\")\n",
    "    print(f\"LoRA model saved to {output_dir}/lora_model\")\n",
    "    \n",
    "    # Save QLoRA model if available\n",
    "    if 'QLoRA Fine-tuning' in results:\n",
    "        qlora_model.save_pretrained(f\"{output_dir}/qlora_model\")\n",
    "        print(f\"QLoRA model saved to {output_dir}/qlora_model\")\n",
    "    \n",
    "    print(\"\\n=== Fine-tuning complete! ===\")\n",
    "\n"
   ]
  },
  {
   "cell_type": "code",
   "execution_count": 10,
   "id": "678eb989",
   "metadata": {},
   "outputs": [
    {
     "name": "stdout",
     "output_type": "stream",
     "text": [
      "\n",
      "=== Loading dataset ===\n",
      "Loaded 1000 training samples\n",
      "Loaded 200 test samples\n",
      "Labels: ['neg', 'pos']\n",
      "\n",
      "Sample data:\n",
      "{'text': 'I have always been a huge James Bond fanatic! I have seen almost all of the films except for Die Another Day, and The World Is Not Enough. The graphic\\'s for Everything Or Nothing are breathtaking! The voice talents......... WOW! I LOVE PIERCE BROSNAN! He is finally Bond in a video game! HE IS BOND! I enjoyed the past Bond games: Goldeneye, The World Is Not Enough, Agent Under Fire, and Nightfire. This one is definitely the best! Finally, Mr. Brosnan, (may I call him Mr. Brosnan as a sign of respect? Yes I can!) He was phenomenally exciting to hear in a video game....... AT LONG LAST! DUH! I\\'ve seen him perform with Robin Williams, and let me tell you, they make a great team. Pierce Brosnan is funny, wickedly handsome ( I mean to say wickedly in a good way,) and just one of those actor\\'s who you would want to walk up to and wrap your arms around and hug, saying: \"Pierce Brosnan, thank you for being James Bond,\" \"If it wasn\\'t for you, I wouldn\\'t know who James Bond is.\" He\\'s a great actor! I am a huge fan of Willem Dafoe even though I\\'ve seen him in a couple of movies. His role as Nikolai Diavalo was brilliant. (Did I spell the character\\'s name right?) LOL!!!! He does a great job with an accent. Sometimes I can\\'t even hear an accent. I have seen Willem, I mean Mr. Dafoe, perform in two movies: Finding Nemo, and Spider-Man with my favorite actress: KIRSTEN DUNST! SHE ROCKS! Anyway, He never ceases to amaze. And Richard Kiel, wow, he\\'s definitely got the part of Jaw\\'s nailed. I\\'ve seen him in the movie\\'s and he\\'s awesome! As a matter of fact, my Grandparent\\'s have met Mr. Kiel, and I was jealous when they told me. But, Kirsten Dunst is at the top of my list of Celebritie\\'s that I want to meet. John Cleese was breathtaking. I have never seen a better person play as the wisecracking, and gadget creating Q! Mr. Cleese was hilarious! I\\'ve seen him work with Pierce Brosnan in Goldeneye and Tommorow Never Dies. He\\'s awesome! John Cleese\\'s most recent project is Shrek 2 starring Mike Myer\\'s, Cameron Diaz, Julie Andrew\\'s and Eddie Murphy. ( Shrek 2 is now in theatre\\'s!) GOOD LUCK 007! Oh, yeah, and as Q alway\\'s says: \"Grow up 007!\"', 'label': 1}\n",
      "\n",
      "=== Loading tokenizer ===\n",
      "\n",
      "=== Preprocessing data ===\n"
     ]
    },
    {
     "name": "stderr",
     "output_type": "stream",
     "text": [
      "Map: 100%|██████████| 1000/1000 [00:00<00:00, 5133.54 examples/s]\n",
      "Map: 100%|██████████| 200/200 [00:00<00:00, 4176.74 examples/s]\n"
     ]
    },
    {
     "name": "stdout",
     "output_type": "stream",
     "text": [
      "\n",
      "=== Loading base model ===\n"
     ]
    },
    {
     "name": "stderr",
     "output_type": "stream",
     "text": [
      "Some weights of OPTForSequenceClassification were not initialized from the model checkpoint at facebook/opt-350m and are newly initialized: ['score.weight']\n",
      "You should probably TRAIN this model on a down-stream task to be able to use it for predictions and inference.\n"
     ]
    },
    {
     "name": "stdout",
     "output_type": "stream",
     "text": [
      "\n",
      "=== Evaluating base model performance (no fine-tuning) ===\n"
     ]
    },
    {
     "name": "stderr",
     "output_type": "stream",
     "text": [
      "Evaluating: 100%|██████████| 25/25 [00:01<00:00, 21.39it/s]\n"
     ]
    },
    {
     "name": "stdout",
     "output_type": "stream",
     "text": [
      "Evaluation metrics:\n",
      "  Accuracy: 0.4600\n",
      "  AUC-ROC:  0.4228\n",
      "  PR-AUC:   0.4653\n",
      "\n",
      "=== Loading model for last layer fine-tuning ===\n"
     ]
    },
    {
     "name": "stderr",
     "output_type": "stream",
     "text": [
      "Some weights of OPTForSequenceClassification were not initialized from the model checkpoint at facebook/opt-350m and are newly initialized: ['score.weight']\n",
      "You should probably TRAIN this model on a down-stream task to be able to use it for predictions and inference.\n"
     ]
    },
    {
     "name": "stdout",
     "output_type": "stream",
     "text": [
      "Trainable parameters: 1024 (0.00% of total)\n",
      "\n",
      "=== Training last layer ===\n",
      "\n",
      "Epoch 1/3\n"
     ]
    },
    {
     "name": "stderr",
     "output_type": "stream",
     "text": [
      "Loss: 1.2862: 100%|██████████| 125/125 [00:06<00:00, 20.75it/s]\n"
     ]
    },
    {
     "name": "stdout",
     "output_type": "stream",
     "text": [
      "Average loss: 1.2370\n",
      "\n",
      "Epoch 2/3\n"
     ]
    },
    {
     "name": "stderr",
     "output_type": "stream",
     "text": [
      "Loss: 1.1497: 100%|██████████| 125/125 [00:05<00:00, 20.97it/s]\n"
     ]
    },
    {
     "name": "stdout",
     "output_type": "stream",
     "text": [
      "Average loss: 1.0348\n",
      "\n",
      "Epoch 3/3\n"
     ]
    },
    {
     "name": "stderr",
     "output_type": "stream",
     "text": [
      "Loss: 1.1822: 100%|██████████| 125/125 [00:05<00:00, 21.09it/s]\n"
     ]
    },
    {
     "name": "stdout",
     "output_type": "stream",
     "text": [
      "Average loss: 0.9707\n",
      "\n",
      "=== Evaluating last layer fine-tuned model ===\n"
     ]
    },
    {
     "name": "stderr",
     "output_type": "stream",
     "text": [
      "Evaluating: 100%|██████████| 25/25 [00:01<00:00, 21.57it/s]\n"
     ]
    },
    {
     "name": "stdout",
     "output_type": "stream",
     "text": [
      "Evaluation metrics:\n",
      "  Accuracy: 0.5550\n",
      "  AUC-ROC:  0.5582\n",
      "  PR-AUC:   0.5557\n",
      "\n",
      "=== Loading model for LoRA fine-tuning ===\n"
     ]
    },
    {
     "name": "stderr",
     "output_type": "stream",
     "text": [
      "Some weights of OPTForSequenceClassification were not initialized from the model checkpoint at facebook/opt-350m and are newly initialized: ['score.weight']\n",
      "You should probably TRAIN this model on a down-stream task to be able to use it for predictions and inference.\n"
     ]
    },
    {
     "name": "stdout",
     "output_type": "stream",
     "text": [
      "trainable params: 787,456 || all params: 331,984,896 || trainable%: 0.2372\n",
      "\n",
      "=== Training with LoRA ===\n",
      "\n",
      "Epoch 1/3\n"
     ]
    },
    {
     "name": "stderr",
     "output_type": "stream",
     "text": [
      "Loss: 1.4000: 100%|██████████| 125/125 [00:11<00:00, 10.54it/s]\n"
     ]
    },
    {
     "name": "stdout",
     "output_type": "stream",
     "text": [
      "Average loss: 1.6177\n",
      "\n",
      "Epoch 2/3\n"
     ]
    },
    {
     "name": "stderr",
     "output_type": "stream",
     "text": [
      "Loss: 0.3682: 100%|██████████| 125/125 [00:11<00:00, 10.58it/s]\n"
     ]
    },
    {
     "name": "stdout",
     "output_type": "stream",
     "text": [
      "Average loss: 1.1572\n",
      "\n",
      "Epoch 3/3\n"
     ]
    },
    {
     "name": "stderr",
     "output_type": "stream",
     "text": [
      "Loss: 1.3966: 100%|██████████| 125/125 [00:11<00:00, 10.56it/s]\n"
     ]
    },
    {
     "name": "stdout",
     "output_type": "stream",
     "text": [
      "Average loss: 0.9768\n",
      "\n",
      "=== Evaluating LoRA fine-tuned model ===\n"
     ]
    },
    {
     "name": "stderr",
     "output_type": "stream",
     "text": [
      "Evaluating: 100%|██████████| 25/25 [00:01<00:00, 20.63it/s]\n"
     ]
    },
    {
     "name": "stdout",
     "output_type": "stream",
     "text": [
      "Evaluation metrics:\n",
      "  Accuracy: 0.4600\n",
      "  AUC-ROC:  0.4714\n",
      "  PR-AUC:   0.5282\n",
      "\n",
      "=== Loading model for QLoRA fine-tuning ===\n",
      "Error with QLoRA: No package metadata was found for bitsandbytes\n",
      "This may happen if bitsandbytes is not properly installed or you're on an unsupported platform.\n",
      "Skipping QLoRA evaluation.\n",
      "\n",
      "=== Results Comparison ===\n",
      "                        accuracy     AUC    PR-AUC\n",
      "Base Model                 0.460  0.4228  0.465289\n",
      "Last Layer Fine-tuning     0.555  0.5582  0.555738\n",
      "LoRA Fine-tuning           0.460  0.4714  0.528221\n",
      "Results plot saved as 'fine_tuning_comparison.png'\n",
      "LoRA model saved to fine_tuned_models/lora_model\n",
      "\n",
      "=== Fine-tuning complete! ===\n"
     ]
    },
    {
     "data": {
      "image/png": "[encoded data removed]",
      "text/plain": [
       "<Figure size 1500x500 with 3 Axes>"
      ]
     },
     "metadata": {},
     "output_type": "display_data"
    }
   ],
   "source": [
    "if __name__ == \"__main__\":\n",
    "    main()"
   ]
  },
  {
   "cell_type": "code",
   "execution_count": null,
   "id": "ebb95b65",
   "metadata": {},
   "outputs": [],
   "source": []
  }
 ],
 "metadata": {
  "kernelspec": {
   "display_name": "pt",
   "language": "python",
   "name": "python3"
  },
  "language_info": {
   "codemirror_mode": {
    "name": "ipython",
    "version": 3
   },
   "file_extension": ".py",
   "mimetype": "text/x-python",
   "name": "python",
   "nbconvert_exporter": "python",
   "pygments_lexer": "ipython3",
   "version": "3.12.9"
  }
 },
 "nbformat": 4,
 "nbformat_minor": 5
}
