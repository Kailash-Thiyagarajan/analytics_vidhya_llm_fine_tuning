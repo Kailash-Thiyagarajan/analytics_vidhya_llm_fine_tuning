{
 "cells": [
  {
   "cell_type": "markdown",
   "id": "837c74e0",
   "metadata": {},
   "source": [
    "This notebook demonstrates how to use **instruction prompting** and **zero-shot prompting** with an instruction-tuned model (e.g., FLAN-T5, Mistral-Instruct).\n",
    "\n",
    "Key Takeaways:\n",
    "- Instruction prompting allows natural commands like \"Classify...\" or \"Summarize...\"\n",
    "- Zero-shot works without examples, assuming the model was trained to follow tasks\n",
    "- This requires an **instruction-tuned model**, not a base model"
   ]
  },
  {
   "cell_type": "code",
   "execution_count": 1,
   "id": "e336d2d3",
   "metadata": {},
   "outputs": [
    {
     "name": "stderr",
     "output_type": "stream",
     "text": [
      "/miniforge/envs/pt/lib/python3.12/site-packages/tqdm/auto.py:21: TqdmWarning: IProgress not found. Please update jupyter and ipywidgets. See https://ipywidgets.readthedocs.io/en/stable/user_install.html\n",
      "  from .autonotebook import tqdm as notebook_tqdm\n",
      "Loading checkpoint shards: 100%|██████████| 3/3 [00:02<00:00,  1.00it/s]\n"
     ]
    },
    {
     "name": "stdout",
     "output_type": "stream",
     "text": [
      "Instruction-based response: The action scenes were well-choreographed and the acting was top-notch. The plot was engaging and kept me guessing until the end. I would highly recommend it to anyone who enjoys a good superhero movie.\n",
      "\n",
      "Positive\n",
      "\n",
      "Explanation:\n",
      "The reviewer expresses positive feelings towards the movie, stating that they loved it, found it thrilling and emotional, and would highly recommend it. These are all indications of a positive review. The\n",
      "Zero-shot translation: Je aime regarder les films de super-héros.\n",
      "\n",
      "Here's a breakdown of the translation:\n",
      "\n",
      "1. \"I\" is translated as \"Je\" in French.\n",
      "2. \"love\" is translated as \"aime\" in French.\n",
      "3. \"watching\" is translated as \"regarder\" in French.\n",
      "4. \"superhero\" is translated as \"super-héros\" in French.\n",
      "5.\n"
     ]
    }
   ],
   "source": [
    "from transformers import AutoTokenizer, AutoModelForSeq2SeqLM, AutoModelForCausalLM\n",
    "import torch\n",
    "\n",
    "# Use instruction-tuned model\n",
    "model_name = \"mistralai/Mistral-7B-Instruct-v0.3\"  # Or mistralai/Mistral-7B-Instruct-v0.1\n",
    "model = AutoModelForCausalLM.from_pretrained(model_name).to(\"cuda\" if torch.cuda.is_available() else \"cpu\")\n",
    "tokenizer = AutoTokenizer.from_pretrained(model_name)\n",
    "\n",
    "# Instruction prompt (classification)\n",
    "instruction_prompt = \"Classify the following movie review as Positive or Negative:\\n\\nI loved the new Batman movie. It was thrilling and emotional.\"\n",
    "\n",
    "# Zero-shot instruction prompt (no examples, direct command)\n",
    "zero_shot_prompt = \"Translate the following sentence to French:\\n\\nI love watching superhero movies.\"\n",
    "\n",
    "# Generate response\n",
    "def generate_response(prompt, max_tokens=100):\n",
    "    inputs = tokenizer(prompt, return_tensors=\"pt\").to(model.device)\n",
    "    output = model.generate(\n",
    "        **inputs,\n",
    "        max_new_tokens=max_tokens,\n",
    "        temperature=0.7,\n",
    "        do_sample=True,\n",
    "        eos_token_id=tokenizer.eos_token_id,\n",
    "        pad_token_id=tokenizer.pad_token_id or tokenizer.eos_token_id,\n",
    "    )\n",
    "    decoded = tokenizer.decode(output[0], skip_special_tokens=True)\n",
    "    return decoded[len(prompt):].strip()\n",
    "\n",
    "\n",
    "print(\"Instruction-based response:\", generate_response(instruction_prompt))\n",
    "print(\"Zero-shot translation:\", generate_response(zero_shot_prompt))\n"
   ]
  },
  {
   "cell_type": "code",
   "execution_count": null,
   "id": "2f113f90",
   "metadata": {},
   "outputs": [],
   "source": []
  }
 ],
 "metadata": {
  "kernelspec": {
   "display_name": "pt",
   "language": "python",
   "name": "python3"
  },
  "language_info": {
   "codemirror_mode": {
    "name": "ipython",
    "version": 3
   },
   "file_extension": ".py",
   "mimetype": "text/x-python",
   "name": "python",
   "nbconvert_exporter": "python",
   "pygments_lexer": "ipython3",
   "version": "3.12.9"
  }
 },
 "nbformat": 4,
 "nbformat_minor": 5
}
